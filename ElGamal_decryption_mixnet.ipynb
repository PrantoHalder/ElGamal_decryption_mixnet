{
  "nbformat": 4,
  "nbformat_minor": 0,
  "metadata": {
    "colab": {
      "provenance": [],
      "authorship_tag": "ABX9TyPjNEbmu85qyH6I4jBmpuAn",
      "include_colab_link": true
    },
    "kernelspec": {
      "name": "python3",
      "display_name": "Python 3"
    },
    "language_info": {
      "name": "python"
    }
  },
  "cells": [
    {
      "cell_type": "markdown",
      "metadata": {
        "id": "view-in-github",
        "colab_type": "text"
      },
      "source": [
        "<a href=\"https://colab.research.google.com/github/PrantoHalder/ElGamal_decryption_mixnet/blob/main/ElGamal_decryption_mixnet.ipynb\" target=\"_parent\"><img src=\"https://colab.research.google.com/assets/colab-badge.svg\" alt=\"Open In Colab\"/></a>"
      ]
    },
    {
      "cell_type": "code",
      "execution_count": 1,
      "metadata": {
        "colab": {
          "base_uri": "https://localhost:8080/"
        },
        "id": "7-oBmyZKQTJq",
        "outputId": "d0720393-d9bb-424e-e0da-9330611d4b0f"
      },
      "outputs": [
        {
          "output_type": "stream",
          "name": "stdout",
          "text": [
            "What is your message: 12345\n",
            "Final Message: \n",
            "12345\n"
          ]
        }
      ],
      "source": [
        "from random import randrange, random\n",
        "import random\n",
        "\n",
        "def gcd(a, b):\n",
        "    while b:\n",
        "        a, b = b, a%b\n",
        "    return a\n",
        "\n",
        "def egcd(a, b):\n",
        "    if a == 0:\n",
        "        return (b, 0, 1)\n",
        "    else:\n",
        "        g, y, x = egcd(b % a, a)\n",
        "        return (g, x - (b // a) * y, y)\n",
        "    \n",
        "def modinv(a, m):\n",
        "    g, x, y = egcd(a, m)\n",
        "    if g != 1:\n",
        "        raise Exception('invalid modular inverse ')\n",
        "    else:\n",
        "        x = x % m\n",
        "        x=(x+m)%m\n",
        "        return x\n",
        "\n",
        "    \n",
        "def is_prime(n, k=6): \n",
        "    from random import randint\n",
        "    if n < 2: return False\n",
        "    for p in [2,3,5,7,11,13,17,19,23,29]:\n",
        "        if n % p == 0: return n == p\n",
        "    s, d = 0, n-1\n",
        "    while d % 2 == 0:\n",
        "        s, d = s+1, d//2\n",
        "    for i in range(k):\n",
        "        x = pow(randint(2, n-1), d, n)\n",
        "        if x == 1 or x == n-1: continue\n",
        "        for r in range(1, s):\n",
        "            x = (x * x) % n\n",
        "            if x == 1: return False\n",
        "            if x == n-1: break\n",
        "        else: return False\n",
        "    return True    \n",
        "\n",
        "\n",
        "def randprime(N=10**8):\n",
        "    p = 1\n",
        "    while not is_prime(p):\n",
        "        p = randrange(N)\n",
        "    return p\n",
        "\n",
        "    \n",
        "def generate_private_key(P):\n",
        "    key = random.randint(10**20, P)\n",
        "    while gcd(P, key) != 1:\n",
        "        key = random.randint(10**20, P)\n",
        "    return key\n",
        "\n",
        "num_of_mixserver=5\n",
        "P=randprime(2**256)\n",
        "alpha = random.randint(2, P)\n",
        "mixserver_private_key=[]\n",
        "mixserver_bita_key=[]\n",
        "Y=1\n",
        "for i in range(num_of_mixserver):\n",
        "    private_key=generate_private_key(P)\n",
        "    mixserver_private_key.append(private_key)\n",
        "    bita=pow(alpha,private_key,P)\n",
        "    mixserver_bita_key.append(bita)\n",
        "    Y=(Y*bita)%P   \n",
        "\n",
        "#msg=1112254545878454455\n",
        "\n",
        "r=random.randint(2,10**40)\n",
        "c1=pow(alpha,r,P)\n",
        "msg = int(input(\"What is your message: \"))\n",
        "c2=((msg%P)*pow(Y,r,P))%P\n",
        "\n",
        "\n",
        "for i in range(num_of_mixserver):\n",
        "    temp=pow(c1,mixserver_private_key[i],P)\n",
        "    inv=modinv(temp,P)\n",
        "    c2=(c2*inv)%P\n",
        "    \n",
        "print (\"Final Message: \")\n",
        "print(c2)\n"
      ]
    }
  ]
}